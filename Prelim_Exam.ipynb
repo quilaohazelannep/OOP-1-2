{
  "nbformat": 4,
  "nbformat_minor": 0,
  "metadata": {
    "colab": {
      "name": "Prelim Exam.ipynb",
      "provenance": [],
      "authorship_tag": "ABX9TyPWTnhxNIYBsUxKxhgBKq2l",
      "include_colab_link": true
    },
    "kernelspec": {
      "name": "python3",
      "display_name": "Python 3"
    },
    "language_info": {
      "name": "python"
    }
  },
  "cells": [
    {
      "cell_type": "markdown",
      "metadata": {
        "id": "view-in-github",
        "colab_type": "text"
      },
      "source": [
        "<a href=\"https://colab.research.google.com/github/quilaohazelannep/OOP-1-2/blob/main/Prelim_Exam.ipynb\" target=\"_parent\"><img src=\"https://colab.research.google.com/assets/colab-badge.svg\" alt=\"Open In Colab\"/></a>"
      ]
    },
    {
      "cell_type": "code",
      "execution_count": 2,
      "metadata": {
        "colab": {
          "base_uri": "https://localhost:8080/"
        },
        "id": "hFsJn7VCzxw1",
        "outputId": "dc82e20c-e67e-44aa-e60b-a6f157374e7c"
      },
      "outputs": [
        {
          "output_type": "stream",
          "name": "stdout",
          "text": [
            "My name is Hazel Anne P. Quilao, and my student number is 202102041. I am 19 years old. Taking up BS Computer Engineering at Cavite State University - Main Campus\n"
          ]
        }
      ],
      "source": [
        "class Student:\n",
        "  def __init__(self, name, student_no, age, course, school):\n",
        "    self.name = name                #attributes\n",
        "    self.student_no = student_no\n",
        "    self.age = age\n",
        "    self.course = course\n",
        "    self.school = school\n",
        "\n",
        "  def info(self):\n",
        "    print(self.name,self.student_no,self.age,self.course,self.school)\n",
        "\n",
        "Myself = Student(\"Hazel Anne P. Quilao\", \"202102041\", 19, \"BS Computer Engineering\", \"Cavite State University - Main Campus\")\n",
        "\n",
        "print(f\"My name is {Myself.name}, and my student number is {Myself.student_no}. I am {Myself.age} years old. Taking up {Myself.course} at {Myself.school}\")"
      ]
    }
  ]
}