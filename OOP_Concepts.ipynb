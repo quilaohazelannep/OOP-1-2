{
  "nbformat": 4,
  "nbformat_minor": 0,
  "metadata": {
    "colab": {
      "name": "OOP Concepts.ipynb",
      "provenance": [],
      "collapsed_sections": [],
      "authorship_tag": "ABX9TyNlvCibIB8Be2m+TmX8hw7R",
      "include_colab_link": true
    },
    "kernelspec": {
      "name": "python3",
      "display_name": "Python 3"
    },
    "language_info": {
      "name": "python"
    }
  },
  "cells": [
    {
      "cell_type": "markdown",
      "metadata": {
        "id": "view-in-github",
        "colab_type": "text"
      },
      "source": [
        "<a href=\"https://colab.research.google.com/github/quilaohazelannep/OOP-1-2/blob/main/OOP_Concepts.ipynb\" target=\"_parent\"><img src=\"https://colab.research.google.com/assets/colab-badge.svg\" alt=\"Open In Colab\"/></a>"
      ]
    },
    {
      "cell_type": "markdown",
      "source": [
        "##Python Classes and Objects"
      ],
      "metadata": {
        "id": "zpAoRjKwR3eb"
      }
    },
    {
      "cell_type": "markdown",
      "source": [
        "Create a Class"
      ],
      "metadata": {
        "id": "uEEE8n6bR-N-"
      }
    },
    {
      "cell_type": "code",
      "source": [
        "class MyClass:\n",
        " pass"
      ],
      "metadata": {
        "id": "gygbXlUKSBR0"
      },
      "execution_count": null,
      "outputs": []
    },
    {
      "cell_type": "code",
      "source": [
        "class OOP1_2:\n",
        "  X = 5\n",
        "  print(X)"
      ],
      "metadata": {
        "colab": {
          "base_uri": "https://localhost:8080/"
        },
        "id": "Sa99_GHiSrGx",
        "outputId": "64cdbd1f-8a06-41e2-827e-1f5aba5ed904"
      },
      "execution_count": null,
      "outputs": [
        {
          "output_type": "stream",
          "name": "stdout",
          "text": [
            "5\n"
          ]
        }
      ]
    },
    {
      "cell_type": "markdown",
      "source": [
        "Create Objects"
      ],
      "metadata": {
        "id": "1a3N9E6sUFqj"
      }
    },
    {
      "cell_type": "code",
      "source": [
        "class OOP1_2:\n",
        "  def __init__(self, name, age): #__init__(parameter)\n",
        "    self.name = name            #attributes\n",
        "    self.age = age\n",
        "\n",
        "  def indentity(self):\n",
        "   print(self.name,self.age)\n",
        "  \n",
        "person = OOP1_2(\"Hazel\", 19) #create objects\n",
        "\n",
        "print(person.name)\n",
        "print(person.age)\n",
        "print(person.indentity)"
      ],
      "metadata": {
        "colab": {
          "base_uri": "https://localhost:8080/"
        },
        "id": "fQ4oeBFtTJx3",
        "outputId": "04fda671-2f0f-45e6-cd20-81b66e845dc7"
      },
      "execution_count": null,
      "outputs": [
        {
          "output_type": "stream",
          "name": "stdout",
          "text": [
            "Hazel\n",
            "19\n",
            "<bound method OOP1_2.indentity of <__main__.OOP1_2 object at 0x7f548d43da50>>\n"
          ]
        }
      ]
    },
    {
      "cell_type": "code",
      "source": [
        "#Modify the Object Name\n",
        "\n",
        "person.name = \"Anne\"\n",
        "print(person.name)\n",
        "print(person.age)"
      ],
      "metadata": {
        "colab": {
          "base_uri": "https://localhost:8080/"
        },
        "id": "ite4DlwcWLgU",
        "outputId": "e22a342b-7508-4ca4-c42e-4ea7e6f26cd5"
      },
      "execution_count": null,
      "outputs": [
        {
          "output_type": "stream",
          "name": "stdout",
          "text": [
            "Anne\n",
            "19\n"
          ]
        }
      ]
    },
    {
      "cell_type": "code",
      "source": [
        "person.age = 20\n",
        "\n",
        "print(person.name)\n",
        "print(person.age)"
      ],
      "metadata": {
        "colab": {
          "base_uri": "https://localhost:8080/"
        },
        "id": "_9Sw7on7Wu-T",
        "outputId": "8be5a96e-4fe1-438e-92f4-546580234be2"
      },
      "execution_count": null,
      "outputs": [
        {
          "output_type": "stream",
          "name": "stdout",
          "text": [
            "Anne\n",
            "20\n"
          ]
        }
      ]
    },
    {
      "cell_type": "code",
      "source": [
        "#Delete the Object\n",
        "\n",
        "del person.name"
      ],
      "metadata": {
        "colab": {
          "base_uri": "https://localhost:8080/",
          "height": 200
        },
        "id": "Yk3xNtOGW4eN",
        "outputId": "19350e88-28c2-4beb-cc12-043ba02c7964"
      },
      "execution_count": null,
      "outputs": [
        {
          "output_type": "error",
          "ename": "AttributeError",
          "evalue": "ignored",
          "traceback": [
            "\u001b[0;31m---------------------------------------------------------------------------\u001b[0m",
            "\u001b[0;31mAttributeError\u001b[0m                            Traceback (most recent call last)",
            "\u001b[0;32m<ipython-input-16-12cff69a5312>\u001b[0m in \u001b[0;36m<module>\u001b[0;34m()\u001b[0m\n\u001b[1;32m      1\u001b[0m \u001b[0;31m#Delete the Object\u001b[0m\u001b[0;34m\u001b[0m\u001b[0;34m\u001b[0m\u001b[0;34m\u001b[0m\u001b[0m\n\u001b[1;32m      2\u001b[0m \u001b[0;34m\u001b[0m\u001b[0m\n\u001b[0;32m----> 3\u001b[0;31m \u001b[0;32mdel\u001b[0m \u001b[0mperson\u001b[0m\u001b[0;34m.\u001b[0m\u001b[0mname\u001b[0m\u001b[0;34m\u001b[0m\u001b[0;34m\u001b[0m\u001b[0m\n\u001b[0m",
            "\u001b[0;31mAttributeError\u001b[0m: name"
          ]
        }
      ]
    },
    {
      "cell_type": "code",
      "source": [
        "print(person.name)"
      ],
      "metadata": {
        "colab": {
          "base_uri": "https://localhost:8080/",
          "height": 182
        },
        "id": "AS7J_SWxXFVz",
        "outputId": "b4b8d5f1-95ab-4d52-897c-76565de84193"
      },
      "execution_count": null,
      "outputs": [
        {
          "output_type": "error",
          "ename": "AttributeError",
          "evalue": "ignored",
          "traceback": [
            "\u001b[0;31m---------------------------------------------------------------------------\u001b[0m",
            "\u001b[0;31mAttributeError\u001b[0m                            Traceback (most recent call last)",
            "\u001b[0;32m<ipython-input-18-0be790b71ed1>\u001b[0m in \u001b[0;36m<module>\u001b[0;34m()\u001b[0m\n\u001b[0;32m----> 1\u001b[0;31m \u001b[0mprint\u001b[0m\u001b[0;34m(\u001b[0m\u001b[0mperson\u001b[0m\u001b[0;34m.\u001b[0m\u001b[0mname\u001b[0m\u001b[0;34m)\u001b[0m\u001b[0;34m\u001b[0m\u001b[0;34m\u001b[0m\u001b[0m\n\u001b[0m\u001b[1;32m      2\u001b[0m \u001b[0mprint\u001b[0m\u001b[0;34m(\u001b[0m\u001b[0mperson\u001b[0m\u001b[0;34m.\u001b[0m\u001b[0mage\u001b[0m\u001b[0;34m)\u001b[0m\u001b[0;34m\u001b[0m\u001b[0;34m\u001b[0m\u001b[0m\n",
            "\u001b[0;31mAttributeError\u001b[0m: 'OOP1_2' object has no attribute 'name'"
          ]
        }
      ]
    },
    {
      "cell_type": "code",
      "source": [
        "print(person.age)"
      ],
      "metadata": {
        "colab": {
          "base_uri": "https://localhost:8080/"
        },
        "id": "dSuuA1LwXV-c",
        "outputId": "f465a6db-5530-4370-c143-d60aba6cfc67"
      },
      "execution_count": null,
      "outputs": [
        {
          "output_type": "stream",
          "name": "stdout",
          "text": [
            "20\n"
          ]
        }
      ]
    },
    {
      "cell_type": "markdown",
      "source": [
        "Application 1 - Write a python program that computes the area of a square, and name its class as Square, side as attribute."
      ],
      "metadata": {
        "id": "iJFmVCTmXiBj"
      }
    },
    {
      "cell_type": "code",
      "source": [
        "class Square:\n",
        "  def __init__(self, sides):\n",
        "    self.sides = sides\n",
        "\n",
        "  def area(self):\n",
        "    return self.sides*self.sides  #formula to complete the area of the square\n",
        "\n",
        "  def display(self):\n",
        "    print(\"the area of a square is:\", self.area())\n",
        "\n",
        "square = Square(4)\n",
        "\n",
        "\n",
        "print(square.sides)\n",
        "square.display()"
      ],
      "metadata": {
        "colab": {
          "base_uri": "https://localhost:8080/"
        },
        "id": "sR_TXhdGYDCb",
        "outputId": "86af2574-a45b-467d-e8da-f5b5731e1499"
      },
      "execution_count": null,
      "outputs": [
        {
          "output_type": "stream",
          "name": "stdout",
          "text": [
            "4\n",
            "the area of a square is: 16\n"
          ]
        }
      ]
    },
    {
      "cell_type": "markdown",
      "source": [
        "Application 2 - Write a Python program that displays your full name, age, course, school. Create a class named Myclass, and name, age, school, course as attributes."
      ],
      "metadata": {
        "id": "ax9dtPE1bY1U"
      }
    },
    {
      "cell_type": "code",
      "source": [
        "class Myclass:\n",
        "  def __init__(self, name, age, course, school):\n",
        "    self.name = name                #attributes\n",
        "    self.age = age\n",
        "    self.course = course\n",
        "    self.school = school\n",
        "\n",
        "  def identity(self):\n",
        "    print(self.name,self.age,self.course,self.school)\n",
        "\n",
        "attributes = Myclass(\"Hazel Anne P. Quilao\", 19, \"BS Computer Engineering\", \"Cavite State University - Main Campus\")\n",
        "\n",
        "print(attributes.name)\n",
        "print(attributes.age)\n",
        "print(attributes.course)\n",
        "print(attributes.school)"
      ],
      "metadata": {
        "colab": {
          "base_uri": "https://localhost:8080/"
        },
        "id": "eEnVPrDhb76E",
        "outputId": "b51dec99-2987-40c8-b483-3f131f42229a"
      },
      "execution_count": null,
      "outputs": [
        {
          "output_type": "stream",
          "name": "stdout",
          "text": [
            "Hazel Anne P. Quilao\n",
            "19\n",
            "BS Computer Engineering\n",
            "Cavite State University - Main Campus\n"
          ]
        }
      ]
    }
  ]
}