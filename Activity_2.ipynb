{
  "nbformat": 4,
  "nbformat_minor": 0,
  "metadata": {
    "colab": {
      "name": "Activity 2.ipynb",
      "provenance": [],
      "collapsed_sections": [],
      "authorship_tag": "ABX9TyPVP3jUJqM+9reKhW3UVW0Q",
      "include_colab_link": true
    },
    "kernelspec": {
      "name": "python3",
      "display_name": "Python 3"
    },
    "language_info": {
      "name": "python"
    }
  },
  "cells": [
    {
      "cell_type": "markdown",
      "metadata": {
        "id": "view-in-github",
        "colab_type": "text"
      },
      "source": [
        "<a href=\"https://colab.research.google.com/github/quilaohazelannep/OOP-1-2/blob/main/Activity_2.ipynb\" target=\"_parent\"><img src=\"https://colab.research.google.com/assets/colab-badge.svg\" alt=\"Open In Colab\"/></a>"
      ]
    },
    {
      "cell_type": "code",
      "source": [
        "#Write a python program that converts the temperature Celsius to Fahrenheit. Create a class name Temperature.\n",
        "#Create Celsius as attribute name, temp() as method, and temp1 as object name. F = 1.8xC + 32\n",
        "\n",
        "class Temperature:\n",
        "  def __init__(self,Celsius):\n",
        "    self.Celsius = Celsius\n",
        "\n",
        "  def Temp(self):\n",
        "    return ((1.8*self.Celsius)+32)\n",
        "\n",
        "\n",
        "Input_temp= float(input(\"Input temperature in celsius:\"))\n",
        "temp1 = Temperature(Input_temp)\n",
        "print(round(temp1.Temp(),2))"
      ],
      "metadata": {
        "colab": {
          "base_uri": "https://localhost:8080/"
        },
        "id": "H6vwPdE2XaA_",
        "outputId": "d1111d45-f87b-4ace-855c-f0c4be215009"
      },
      "execution_count": null,
      "outputs": [
        {
          "output_type": "stream",
          "name": "stdout",
          "text": [
            "Input temperature in celsius:30\n",
            "86.0\n"
          ]
        }
      ]
    },
    {
      "cell_type": "markdown",
      "source": [
        "1. Define an Area() method of the class that calculates the circle’s area."
      ],
      "metadata": {
        "id": "Bex2JfubC-MO"
      }
    },
    {
      "cell_type": "code",
      "source": [
        "# importing math module\n",
        "\n",
        "import math\n",
        "\n",
        "class circleClass():\n",
        "    def __init__(self, circleradius):\n",
        "        self.circleradius = circleradius\n",
        "\n",
        "    def printArea(self):\n",
        "        return math.pi*(self.circleradius**2)\n",
        "circleradius = float(input('Enter some random radius of the circle = '))\n",
        "circleobj = circleClass(circleradius)\n",
        "print(\"The Area of Circle with given radius\", circleradius,\n",
        "      '=', round(circleobj.printArea(), 4))"
      ],
      "metadata": {
        "colab": {
          "base_uri": "https://localhost:8080/"
        },
        "id": "soOrL9_wCJ97",
        "outputId": "0ad6103e-1ac9-46b7-e2e9-c31af678cafd"
      },
      "execution_count": 7,
      "outputs": [
        {
          "output_type": "stream",
          "name": "stdout",
          "text": [
            "Enter some random radius of the circle = 25\n",
            "The Area of Circle with given radius 25.0 = 1963.4954\n"
          ]
        }
      ]
    },
    {
      "cell_type": "markdown",
      "source": [
        "2. Define a Perimeter() method of the class which allows you to calculate the perimeter of the circle."
      ],
      "metadata": {
        "id": "BdY2ihNGFgwd"
      }
    },
    {
      "cell_type": "code",
      "source": [
        "import math\n",
        "\n",
        "class circleClass():\n",
        "    def __init__(self, circleradius):\n",
        "        self.circleradius = circleradius\n",
        "\n",
        "    def printPerimeter(self):\n",
        "        return 2*math.pi*self.circleradius\n",
        "\n",
        "circleradius = float(input(\"Enter the radius of the circle:\"))\n",
        "circleobj = circleClass(circleradius)\n",
        "print(\"The Perimeter of Circle with given radius\", circleradius, '=', round(circleobj.printPerimeter(),4))"
      ],
      "metadata": {
        "colab": {
          "base_uri": "https://localhost:8080/"
        },
        "id": "Y3qCj0qnFm70",
        "outputId": "24d1653a-f746-4736-a16e-39189563f879"
      },
      "execution_count": 9,
      "outputs": [
        {
          "output_type": "stream",
          "name": "stdout",
          "text": [
            "Enter the radius of the circle:25\n",
            "The Perimeter of Circle with given radius 25.0 = 157.0796\n"
          ]
        }
      ]
    }
  ]
}