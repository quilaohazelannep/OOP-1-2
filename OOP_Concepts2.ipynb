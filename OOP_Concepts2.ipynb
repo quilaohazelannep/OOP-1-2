{
  "nbformat": 4,
  "nbformat_minor": 0,
  "metadata": {
    "colab": {
      "name": "OOP Concepts2.ipynb",
      "provenance": [],
      "collapsed_sections": [],
      "authorship_tag": "ABX9TyN0AR51SH4Aqrxk/aeUnt66",
      "include_colab_link": true
    },
    "kernelspec": {
      "name": "python3",
      "display_name": "Python 3"
    },
    "language_info": {
      "name": "python"
    }
  },
  "cells": [
    {
      "cell_type": "markdown",
      "metadata": {
        "id": "view-in-github",
        "colab_type": "text"
      },
      "source": [
        "<a href=\"https://colab.research.google.com/github/quilaohazelannep/OOP-1-2/blob/main/OOP_Concepts2.ipynb\" target=\"_parent\"><img src=\"https://colab.research.google.com/assets/colab-badge.svg\" alt=\"Open In Colab\"/></a>"
      ]
    },
    {
      "cell_type": "markdown",
      "source": [
        "Classes with Multiple Objects"
      ],
      "metadata": {
        "id": "DP622Vg1VPG1"
      }
    },
    {
      "cell_type": "code",
      "execution_count": null,
      "metadata": {
        "colab": {
          "base_uri": "https://localhost:8080/"
        },
        "id": "AkE-lwzlVFf7",
        "outputId": "8db14eca-2a70-48ae-88af-2c55ef639970"
      },
      "outputs": [
        {
          "output_type": "stream",
          "name": "stdout",
          "text": [
            "Griffon Vulture flies above the sky\n",
            "Common Crane flies above the sky\n",
            "Emu is the national bird of the Philippines\n"
          ]
        }
      ],
      "source": [
        "class Birds:\n",
        "  def __init__(self,bird_name):\n",
        "    self.bird_name = bird_name\n",
        "\n",
        "  def flying_birds(self):\n",
        "    print(f\"{self.bird_name} flies above the sky\")\n",
        "\n",
        "  def non_flying_birds(self):\n",
        "    print(f\"{self.bird_name} is the national bird of the Philippines\")\n",
        "\n",
        "vulture = Birds(\"Griffon Vulture\")\n",
        "crane = Birds(\"Common Crane\")\n",
        "emu = Birds(\"Emu\")\n",
        "\n",
        "vulture.flying_birds()\n",
        "crane.flying_birds()\n",
        "emu.non_flying_birds()"
      ]
    },
    {
      "cell_type": "markdown",
      "source": [
        "Encapsulation using mangling with double underscores"
      ],
      "metadata": {
        "id": "W7f2l22wXTpe"
      }
    },
    {
      "cell_type": "code",
      "source": [
        "class foo:\n",
        "  def __init__(self,a,b):\n",
        "   self.__a = a\n",
        "   self.__b = b\n",
        "\n",
        "  def add(self):\n",
        "    return self.__a + self.__b    #Private attributes\n",
        "\n",
        "number = foo(3,4)\n",
        "number.add()\n",
        "\n",
        "number.a = 7   #7,4 7+4 = 11\n",
        "number.add()"
      ],
      "metadata": {
        "colab": {
          "base_uri": "https://localhost:8080/"
        },
        "id": "8_LjGP1VXWGh",
        "outputId": "f2600943-4dcb-4159-c843-427000068450"
      },
      "execution_count": null,
      "outputs": [
        {
          "output_type": "execute_result",
          "data": {
            "text/plain": [
              "7"
            ]
          },
          "metadata": {},
          "execution_count": 10
        }
      ]
    },
    {
      "cell_type": "markdown",
      "source": [
        "Encapsulation with Private Attributes"
      ],
      "metadata": {
        "id": "rjCjNWb9ZbBh"
      }
    },
    {
      "cell_type": "code",
      "source": [
        "class Counter:\n",
        "  def __init__(self):\n",
        "    self.__current = 0\n",
        "\n",
        "  def increment(self):\n",
        "    self.__current += 1\n",
        "  def value(self):\n",
        "    return self.__current\n",
        "  def reset(self):\n",
        "    self.__current = 0\n",
        "\n",
        "num = Counter()\n",
        "\n",
        "num.increment()   #counter = counter + 1\n",
        "num.increment()\n",
        "num.increment()\n",
        "\n",
        "num.counter = 1\n",
        "\n",
        "num.value()"
      ],
      "metadata": {
        "colab": {
          "base_uri": "https://localhost:8080/"
        },
        "id": "YyJBZCEBZfce",
        "outputId": "a1c2f8b1-1e84-48d6-fc78-baef32a0491f"
      },
      "execution_count": null,
      "outputs": [
        {
          "output_type": "execute_result",
          "data": {
            "text/plain": [
              "3"
            ]
          },
          "metadata": {},
          "execution_count": 17
        }
      ]
    },
    {
      "cell_type": "code",
      "source": [
        "class Counter:\n",
        "  def __init__(self):\n",
        "    self.__current = 0\n",
        "\n",
        "  def increment(self):\n",
        "    self.__current += 1\n",
        "  def value(self):\n",
        "    return self.__current\n",
        "  def reset(self):\n",
        "    self.__current = 0\n",
        "\n",
        "num = Counter()\n",
        "num.counter = 1\n",
        "num.increment()   #counter = counter + 1\n",
        "num.increment()\n",
        "num.increment()\n",
        "\n",
        "num.value()"
      ],
      "metadata": {
        "colab": {
          "base_uri": "https://localhost:8080/"
        },
        "id": "Bb1MLytwcrJg",
        "outputId": "435daecb-4b49-4d9f-fbf8-5631b2ca3491"
      },
      "execution_count": null,
      "outputs": [
        {
          "output_type": "execute_result",
          "data": {
            "text/plain": [
              "3"
            ]
          },
          "metadata": {},
          "execution_count": 19
        }
      ]
    },
    {
      "cell_type": "markdown",
      "source": [
        "Inheritance"
      ],
      "metadata": {
        "id": "ITGv-mFxdKgl"
      }
    },
    {
      "cell_type": "code",
      "source": [
        "class Person:\n",
        "  def __init__(self,firstname,surname):\n",
        "    self.firstname = firstname\n",
        "    self.surname = surname\n",
        "\n",
        "  def printname(self):\n",
        "    print(self.firstname,self.surname)\n",
        "\n",
        "person = Person(\"Ana\", \"Santos\")\n",
        "person.printname()\n",
        "\n",
        "class Teacher(Person):\n",
        "  pass\n",
        "\n",
        "person2 = Teacher(\"Maria\",\"Sayo\")\n",
        "person2.printname()\n",
        "\n",
        "class Student(Person):\n",
        "  pass\n",
        "\n",
        "person3 = Student(\"Jhoriz\",\"Aquino\")\n",
        "person3.printname()"
      ],
      "metadata": {
        "colab": {
          "base_uri": "https://localhost:8080/"
        },
        "id": "1qXV08UPdJ-z",
        "outputId": "cf3cb820-9838-4025-f5fa-8d0b20774988"
      },
      "execution_count": null,
      "outputs": [
        {
          "output_type": "stream",
          "name": "stdout",
          "text": [
            "Ana Santos\n",
            "Maria Sayo\n",
            "Jhoriz Aquino\n"
          ]
        }
      ]
    },
    {
      "cell_type": "markdown",
      "source": [
        "Polymorphism"
      ],
      "metadata": {
        "id": "aK8ReoHPfNrj"
      }
    },
    {
      "cell_type": "code",
      "source": [
        "class RegularPolygon:\n",
        "    def __init__(self,side):\n",
        "      self.side = side\n",
        "class Square(RegularPolygon):\n",
        "    def area(self):\n",
        "      return self.side * self.side\n",
        "class EquilateralTriangle(RegularPolygon):\n",
        "    def area(self):\n",
        "      return self.side * self.side * 0.433\n",
        "\n",
        "object =Square(4)\n",
        "print(object.area())\n",
        "\n",
        "object2=EquilateralTriangle(3)\n",
        "print(object2.area())"
      ],
      "metadata": {
        "colab": {
          "base_uri": "https://localhost:8080/"
        },
        "id": "oaMHZXNVfPs7",
        "outputId": "30e9990f-2135-4567-d477-47699d8d114a"
      },
      "execution_count": null,
      "outputs": [
        {
          "output_type": "stream",
          "name": "stdout",
          "text": [
            "16\n",
            "3.897\n"
          ]
        }
      ]
    },
    {
      "cell_type": "markdown",
      "source": [
        "Application 1"
      ],
      "metadata": {
        "id": "_vCIl-3r9e62"
      }
    },
    {
      "cell_type": "markdown",
      "source": [
        "1.Create a Python program that displays the name of three students (Student 1, Student 2, and Student 3) and their term grades.\n",
        "2.Create a class name Person and attributes - std1, std2,std3, pre, mid, fin.\n",
        "3.Compute the average of each term grade using Grade() method. \n",
        "4.Information about student's grades must be hidden from others."
      ],
      "metadata": {
        "id": "V61chfM09h1a"
      }
    },
    {
      "cell_type": "code",
      "source": [
        "class Person:\n",
        "   def __init__(self,std1,std2,std3,pre,mid,fin):\n",
        "    self.std1 = std1\n",
        "    self.std2 = std2\n",
        "    self.std3 = std3\n",
        "    self.pre = pre\n",
        "    self.mid = mid\n",
        "    self.fin = fin\n",
        "\n",
        "std1 = input(\"Enter your name: \")\n",
        "pre = float (input(\"Enter your grades in pre: \"))\n",
        "mid = float (input(\"Enter your grades in mid: \"))\n",
        "fin = float (input(\"Enter your grades in fin: \"))\n",
        "sum = pre + mid + fin\n",
        "average = sum/3\n",
        "\n",
        "print(\"Name is: \", std1)\n",
        "print(\"Grade is: \", average)\n",
        "\n",
        "std2 = input(\"Enter your name: \")\n",
        "pre = float (input(\"Enter your grades in pre: \"))\n",
        "mid = float (input(\"Enter your grades in mid: \"))\n",
        "fin = float (input(\"Enter your grades in fin: \"))\n",
        "sum = pre + mid + fin\n",
        "average = sum/3\n",
        "\n",
        "print(\"Name is: \", std2)\n",
        "print(\"Grade is: \", average)\n",
        "\n",
        "std3 = input(\"Enter your name: \")\n",
        "pre = float (input(\"Enter your grades in pre: \"))\n",
        "mid = float (input(\"Enter your grades in mid: \"))\n",
        "fin = float (input(\"Enter your grades in fin: \"))\n",
        "sum = pre + mid + fin\n",
        "average = sum/3\n",
        "\n",
        "print(\"Name is: \", std3)\n",
        "print(\"Grade is: \", average)"
      ],
      "metadata": {
        "colab": {
          "base_uri": "https://localhost:8080/"
        },
        "id": "D3G3ZzG-_s9f",
        "outputId": "3581e6f5-a076-483f-cc1a-afbd86d7be3b"
      },
      "execution_count": 2,
      "outputs": [
        {
          "output_type": "stream",
          "name": "stdout",
          "text": [
            "Enter your name: Hazel Quilao\n",
            "Enter your grades in pre: 96\n",
            "Enter your grades in mid: 96\n",
            "Enter your grades in fin: 97\n",
            "Name is:  Hazel Quilao\n",
            "Grade is:  96.33333333333333\n",
            "Enter your name: Andrea Ramos\n",
            "Enter your grades in pre: 95\n",
            "Enter your grades in mid: 94\n",
            "Enter your grades in fin: 96\n",
            "Name is:  Andrea Ramos\n",
            "Grade is:  95.0\n",
            "Enter your name: Diane Laurel\n",
            "Enter your grades in pre: 95\n",
            "Enter your grades in mid: 97\n",
            "Enter your grades in fin: 97\n",
            "Name is:  Diane Laurel\n",
            "Grade is:  96.33333333333333\n"
          ]
        }
      ]
    }
  ]
}